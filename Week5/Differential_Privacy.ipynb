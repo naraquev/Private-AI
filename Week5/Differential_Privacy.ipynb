{
  "nbformat": 4,
  "nbformat_minor": 0,
  "metadata": {
    "colab": {
      "name": "Differential Privacy",
      "version": "0.3.2",
      "provenance": [],
      "collapsed_sections": [],
      "include_colab_link": true
    },
    "kernelspec": {
      "name": "python3",
      "display_name": "Python 3"
    }
  },
  "cells": [
    {
      "cell_type": "markdown",
      "metadata": {
        "id": "view-in-github",
        "colab_type": "text"
      },
      "source": [
        "<a href=\"https://colab.research.google.com/github/naraquev/Private-AI/blob/master/Week5/Differential_Privacy.ipynb\" target=\"_parent\"><img src=\"https://colab.research.google.com/assets/colab-badge.svg\" alt=\"Open In Colab\"/></a>"
      ]
    },
    {
      "cell_type": "code",
      "metadata": {
        "id": "WCeaeD7aN1Ee",
        "colab_type": "code",
        "colab": {}
      },
      "source": [
        "import torchvision.datasets as datasets\n",
        "import torchvision.transforms as transforms\n",
        "import torch.nn as nn\n",
        "import torch.nn.functional as F\n",
        "import torch.optim as optim\n",
        "import torch\n",
        "from torch.utils.data.sampler import SubsetRandomSampler\n",
        "import numpy as np\n",
        "from IPython.display import clear_output"
      ],
      "execution_count": 0,
      "outputs": []
    },
    {
      "cell_type": "code",
      "metadata": {
        "id": "RSQutMrUN-nd",
        "colab_type": "code",
        "colab": {}
      },
      "source": [
        "class teacher():\n",
        "  def __init__(self, dataL, device, batch_size = 32, epochs=5, print_every=120):\n",
        "    self.dataLoader = dataL\n",
        "    self.model = t_model()\n",
        "    self.criterion = nn.NLLLoss()\n",
        "    self.optimizer = optim.Adam(self.model.parameters(), lr=0.003)\n",
        "    self.epochs = epochs\n",
        "    self.dbug = print_every\n",
        "    self.device =  device\n",
        "                                           \n",
        "                                           \n",
        "                                           \n",
        "  def train(self):\n",
        "    self.model.to(self.device)\n",
        "    #print('Aqui voy!')\n",
        "    steps = 0\n",
        "    running_loss = 0\n",
        "    accuracy = 0\n",
        "    for e in range(self.epochs):\n",
        "        # Model in training mode, dropout is on\n",
        "        self.model.train()\n",
        "        accuracy=0\n",
        "        running_loss = 0\n",
        "        for images, labels in self.dataLoader:\n",
        "            \n",
        "            images, labels = images.to(self.device), labels.to(self.device)\n",
        "            steps += 1\n",
        "            \n",
        "            self.optimizer.zero_grad()\n",
        "            \n",
        "            output = self.model.forward(images)\n",
        "            loss = self.criterion(output, labels)\n",
        "            loss.backward()\n",
        "            self.optimizer.step()            \n",
        "            running_loss += loss.item()          \n",
        "            ps = torch.exp(output)\n",
        "            top_p, top_class = ps.topk(1, dim=1)\n",
        "            equals = top_class == labels.view(*top_class.shape)\n",
        "            accuracy += torch.mean(equals.type(torch.FloatTensor))\n",
        "        #if(e == self.epochs -1 or e==0):\n",
        "         #   print(\"Epoch: {}/{}.. \".format(e+1, self.epochs),\n",
        "          #    \"Training Loss: {:.3f}.. \".format(running_loss/len(self.dataLoader)),              \n",
        "          #    \"Train Accuracy: {:.3f}\".format(accuracy/len(self.dataLoader)))\n",
        "    return accuracy/len(self.dataLoader)\n",
        "    \n",
        "  def eval(self, dataLoader):  \n",
        "    outputs = torch.zeros(0, dtype=torch.long).to(self.device)\n",
        "    self.model.to(self.device)\n",
        "    # Model in test mode, dropout is off\n",
        "    self.model.eval()\n",
        "    result=[]\n",
        "    for images, labels in dataLoader:\n",
        "        images, labels = images.to(self.device), labels.to(self.device)\n",
        "        output = self.model.forward(images)\n",
        "        ps = torch.argmax(torch.exp(output), dim=1)\n",
        "        outputs = torch.cat((outputs, ps))\n",
        "    return outputs\n",
        "  \n",
        "  \n",
        "  \n",
        "class t_model(nn.Module):\n",
        "    def __init__(self):\n",
        "        super(t_model, self).__init__()\n",
        "        self.conv1 = nn.Conv2d(1, 10, kernel_size=5)\n",
        "        self.conv2 = nn.Conv2d(10, 20, kernel_size=5)\n",
        "        self.conv2_drop = nn.Dropout2d()\n",
        "        self.fc1 = nn.Linear(320, 50)\n",
        "        self.fc2 = nn.Linear(50, 10)\n",
        "\n",
        "    def forward(self, x):\n",
        "        x = F.relu(F.max_pool2d(self.conv1(x), 2))\n",
        "        x = F.relu(F.max_pool2d(self.conv2_drop(self.conv2(x)), 2))\n",
        "        x = x.view(-1, 320)\n",
        "        x = F.relu(self.fc1(x))\n",
        "        x = F.dropout(x, training=self.training)\n",
        "        x = self.fc2(x)\n",
        "        return F.log_softmax(x)"
      ],
      "execution_count": 0,
      "outputs": []
    },
    {
      "cell_type": "code",
      "metadata": {
        "id": "DHYrDQEjOH8d",
        "colab_type": "code",
        "colab": {}
      },
      "source": [
        "transform = transforms.Compose([transforms.ToTensor(),transforms.Normalize((0.5, ), (0.5,))])\n",
        "mnist_trainset = datasets.MNIST(root='./data', train=True, download=True, transform=transform)\n",
        "mnist_testset = datasets.MNIST(root='./data', train=False, download=True, transform=transform)\n",
        "device =  torch.device(\"cuda:0\"\"cuda:0\" if torch.cuda.is_available() else \"cpu\")\n",
        "num_teachers = 100\n",
        "train_len = len(mnist_trainset)\n",
        "test_len = len(mnist_testset)"
      ],
      "execution_count": 0,
      "outputs": []
    },
    {
      "cell_type": "code",
      "metadata": {
        "id": "470-uNzlOL2h",
        "colab_type": "code",
        "colab": {}
      },
      "source": [
        "def get_samples(num_teachers):\n",
        "  tam = len(mnist_trainset)\n",
        "  split= int(tam/num_teachers)\n",
        "  split_ini = split\n",
        "  indices = list(range(tam))\n",
        "  init=0\n",
        "  samples = []\n",
        "  for i in range(num_teachers):     \n",
        "    t_idx = indices[init:split]\n",
        "    t_sampler = SubsetRandomSampler(t_idx)\n",
        "    samples.append(t_sampler)\n",
        "    init = split\n",
        "    split = split+split_ini\n",
        "  return samples\n",
        "def create_teachers(samples):\n",
        "  teachers = []\n",
        "  for sample in samples:\n",
        "    loader = torch.utils.data.DataLoader(mnist_trainset, batch_size=32, sampler=sample)\n",
        "    t = teacher(loader, device)\n",
        "    teachers.append(t)    \n",
        "  return teachers"
      ],
      "execution_count": 0,
      "outputs": []
    },
    {
      "cell_type": "code",
      "metadata": {
        "id": "LaS6JikgOaJM",
        "colab_type": "code",
        "colab": {}
      },
      "source": [
        "samples = get_samples(num_teachers)\n",
        "teachers = create_teachers(samples)"
      ],
      "execution_count": 0,
      "outputs": []
    },
    {
      "cell_type": "code",
      "metadata": {
        "id": "YTZILVeaOtgh",
        "colab_type": "code",
        "colab": {}
      },
      "source": [
        "def train_teachers(teachers):\n",
        "  accuracy = []\n",
        "  for key, teacher in enumerate(teachers):\n",
        "    accuracy.append(teacher.train())\n",
        "    clear_output()\n",
        "    print('Teacher ', key)\n",
        "  return accuracy\n"
      ],
      "execution_count": 0,
      "outputs": []
    },
    {
      "cell_type": "code",
      "metadata": {
        "id": "5Fz3iofHTMD-",
        "colab_type": "code",
        "outputId": "f0e22b42-8bdc-498f-fcc2-de53b1b8ca36",
        "colab": {
          "base_uri": "https://localhost:8080/",
          "height": 1751
        }
      },
      "source": [
        "ac = train_teachers(teachers)\n",
        "print('The accuracy mean of all teachers is: ', np.mean(ac))"
      ],
      "execution_count": 22,
      "outputs": [
        {
          "output_type": "stream",
          "text": [
            "/usr/local/lib/python3.6/dist-packages/ipykernel_launcher.py:77: UserWarning: Implicit dimension choice for log_softmax has been deprecated. Change the call to include dim=X as an argument.\n"
          ],
          "name": "stderr"
        },
        {
          "output_type": "stream",
          "text": [
            "Teacher  0\n",
            "Teacher  1\n",
            "Teacher  2\n",
            "Teacher  3\n",
            "Teacher  4\n",
            "Teacher  5\n",
            "Teacher  6\n",
            "Teacher  7\n",
            "Teacher  8\n",
            "Teacher  9\n",
            "Teacher  10\n",
            "Teacher  11\n",
            "Teacher  12\n",
            "Teacher  13\n",
            "Teacher  14\n",
            "Teacher  15\n",
            "Teacher  16\n",
            "Teacher  17\n",
            "Teacher  18\n",
            "Teacher  19\n",
            "Teacher  20\n",
            "Teacher  21\n",
            "Teacher  22\n",
            "Teacher  23\n",
            "Teacher  24\n",
            "Teacher  25\n",
            "Teacher  26\n",
            "Teacher  27\n",
            "Teacher  28\n",
            "Teacher  29\n",
            "Teacher  30\n",
            "Teacher  31\n",
            "Teacher  32\n",
            "Teacher  33\n",
            "Teacher  34\n",
            "Teacher  35\n",
            "Teacher  36\n",
            "Teacher  37\n",
            "Teacher  38\n",
            "Teacher  39\n",
            "Teacher  40\n",
            "Teacher  41\n",
            "Teacher  42\n",
            "Teacher  43\n",
            "Teacher  44\n",
            "Teacher  45\n",
            "Teacher  46\n",
            "Teacher  47\n",
            "Teacher  48\n",
            "Teacher  49\n",
            "Teacher  50\n",
            "Teacher  51\n",
            "Teacher  52\n",
            "Teacher  53\n",
            "Teacher  54\n",
            "Teacher  55\n",
            "Teacher  56\n",
            "Teacher  57\n",
            "Teacher  58\n",
            "Teacher  59\n",
            "Teacher  60\n",
            "Teacher  61\n",
            "Teacher  62\n",
            "Teacher  63\n",
            "Teacher  64\n",
            "Teacher  65\n",
            "Teacher  66\n",
            "Teacher  67\n",
            "Teacher  68\n",
            "Teacher  69\n",
            "Teacher  70\n",
            "Teacher  71\n",
            "Teacher  72\n",
            "Teacher  73\n",
            "Teacher  74\n",
            "Teacher  75\n",
            "Teacher  76\n",
            "Teacher  77\n",
            "Teacher  78\n",
            "Teacher  79\n",
            "Teacher  80\n",
            "Teacher  81\n",
            "Teacher  82\n",
            "Teacher  83\n",
            "Teacher  84\n",
            "Teacher  85\n",
            "Teacher  86\n",
            "Teacher  87\n",
            "Teacher  88\n",
            "Teacher  89\n",
            "Teacher  90\n",
            "Teacher  91\n",
            "Teacher  92\n",
            "Teacher  93\n",
            "Teacher  94\n",
            "Teacher  95\n",
            "Teacher  96\n",
            "Teacher  97\n",
            "Teacher  98\n",
            "Teacher  99\n",
            "The accuracy mean of all teachers is:  0.7281415\n"
          ],
          "name": "stdout"
        }
      ]
    },
    {
      "cell_type": "code",
      "metadata": {
        "id": "vX8iiVO-TKGC",
        "colab_type": "code",
        "colab": {}
      },
      "source": [
        "epsilon = 0.2\n",
        "def eval_data(teachers, mnist_testset):\n",
        "    preds = torch.torch.zeros((num_teachers, test_len), dtype=torch.long)\n",
        "    loader = torch.utils.data.DataLoader(mnist_testset, batch_size=32)\n",
        "    for key, teacher in enumerate(teachers):\n",
        "      clear_output()\n",
        "      print('Teacher:', key)      \n",
        "      result = teacher.eval(loader)\n",
        "      preds[key] = result\n",
        "    return preds.numpy()\n",
        "def mechanism(preds, epsilon=0.2):  \n",
        "  beta = 1 / epsilon\n",
        "  labels = np.array([]).astype(int)\n",
        "  for image_preds in np.transpose(preds):\n",
        "    label_counts = np.bincount(image_preds, minlength=10)\n",
        "    ori_label_counts = np.bincount(image_preds, minlength=10)\n",
        "    for i in range(10):\n",
        "      label_counts[i] += np.random.laplace(0, beta, 1)\n",
        "    new_label = np.argmax(label_counts)\n",
        "    labels = np.append(labels, new_label)\n",
        "  return labels"
      ],
      "execution_count": 0,
      "outputs": []
    },
    {
      "cell_type": "code",
      "metadata": {
        "id": "5-ifS_QuQ-N2",
        "colab_type": "code",
        "colab": {}
      },
      "source": [
        "preds = eval_data(teachers, mnist_testset)\n"
      ],
      "execution_count": 0,
      "outputs": []
    },
    {
      "cell_type": "code",
      "metadata": {
        "id": "J7qAaGkXbR71",
        "colab_type": "code",
        "colab": {
          "base_uri": "https://localhost:8080/",
          "height": 34
        },
        "outputId": "9b7fcbc2-615c-448a-bd1f-109da5fcc3c5"
      },
      "source": [
        "labels = mechanism(preds, epsilon)\n"
      ],
      "execution_count": 25,
      "outputs": [
        {
          "output_type": "execute_result",
          "data": {
            "text/plain": [
              "(10000,)"
            ]
          },
          "metadata": {
            "tags": []
          },
          "execution_count": 25
        }
      ]
    },
    {
      "cell_type": "code",
      "metadata": {
        "id": "qrjWBuKCO0lg",
        "colab_type": "code",
        "colab": {}
      },
      "source": [
        "#!pip install syft\n",
        "from syft.frameworks.torch.differential_privacy import pate"
      ],
      "execution_count": 0,
      "outputs": []
    },
    {
      "cell_type": "code",
      "metadata": {
        "id": "k7-Pgj_vntqk",
        "colab_type": "code",
        "colab": {
          "base_uri": "https://localhost:8080/",
          "height": 51
        },
        "outputId": "f6d17a97-812e-4567-d47d-ef9901207f3d"
      },
      "source": [
        "data_dep_eps, data_ind_eps = pate.perform_analysis(teacher_preds=preds, indices=labels, noise_eps=epsilon, delta=1e-5)\n",
        "print(\"Data Independent Epsilon:\", data_ind_eps)\n",
        "print(\"Data Dependent Epsilon:\", data_dep_eps)"
      ],
      "execution_count": 28,
      "outputs": [
        {
          "output_type": "stream",
          "text": [
            "Data Independent Epsilon: 1611.5129254649705\n",
            "Data Dependent Epsilon: 34.607559293061705\n"
          ],
          "name": "stdout"
        }
      ]
    }
  ]
}